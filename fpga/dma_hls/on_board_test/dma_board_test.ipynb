{
 "cells": [
  {
   "cell_type": "markdown",
   "metadata": {},
   "source": [
    "# DMA on board test\n",
    "\n",
    "The test procedure is same as \"dma_verilog_tb.v\", but now written in python instead of verilog, and now it deal with the real DDR"
   ]
  },
  {
   "cell_type": "code",
   "execution_count": null,
   "metadata": {},
   "outputs": [],
   "source": [
    "from pynq import Overlay\n",
    "overlay = Overlay(\"base.bit\")\n",
    "\n",
    "from pynq import MMIO\n",
    "import numpy as np\n",
    "from pynq import allocate\n",
    "# print address of axi_dma_0 (customized DMA)\n",
    "print(hex(overlay.ip_dict['axi_dma_0']['phys_addr']))\n",
    "# print address of result_checker_0 (customized IP)\n",
    "print(hex(overlay.ip_dict['result_checker_0']['phys_addr']))\n",
    "\n",
    "# mape the base address\n",
    "# 0x60 is the size we want to map, it is enough for both IP\n",
    "axi_dma = MMIO(hex(overlay.ip_dict['axi_dma_0']['phys_addr']), 0x60)\n",
    "result_checker = MMIO(hex(overlay.ip_dict['result_checker_0']['phys_addr']), 0x60)\n",
    "\n",
    "# allocate memory for onboard-test\n",
    "buffer = allocate(shape=(16, 3742, 2),dtype=np.uint8) # we use 128 x 3742 bits as a frame in test, 2 is for double buffering\n"
   ]
  },
  {
   "cell_type": "code",
   "execution_count": null,
   "metadata": {},
   "outputs": [],
   "source": [
    "# set buffer address to DMA\n",
    "# mm2s\n",
    "# low 32 bits\n",
    "axi_dma.write(0x10, buffer.physical_address) # write the physical address of the buffer to the DMA\n",
    "# high 32 bits\n",
    "axi_dma.write(0x14, (buffer.physical_address)>>32) # write the physical address of the buffer to the DMA\n",
    "# s2mm\n",
    "# low 32 bits\n",
    "axi_dma.write(0x1c, buffer.physical_address) # write the physical address of the buffer to the DMA\n",
    "# high 32 bits\n",
    "axi_dma.write(0x20, (buffer.physical_address)>>32) # write the physical address of the buffer to the DMA"
   ]
  },
  {
   "cell_type": "code",
   "execution_count": null,
   "metadata": {},
   "outputs": [],
   "source": [
    "# set test frame num to result_checker\n",
    "test_frame_num = 1000\n",
    "result_checker.write(0x20, test_frame_num) # write the number of frames to the result_checker"
   ]
  },
  {
   "cell_type": "code",
   "execution_count": null,
   "metadata": {},
   "outputs": [],
   "source": [
    "import time\n",
    "# start the test, including error checking and FPS calculation\n",
    "t1 = time.time()\n",
    "axi_dma.write(0x00, 0x1) # start the DMA\n",
    "result_checker.write(0x00, 0x1) # start the result_checker\n",
    "\n",
    "# wait for the test to finish\n",
    "while (result_checker.read(0x00) & 0x2) == 0: # it is for done bit, or  we can use 0x4 for idle\n",
    "    pass\n",
    "\n",
    "t2 = time.time()\n",
    "\n",
    "# read the result\n",
    "error_num = result_checker.read(0x10)\n",
    "fps = test_frame_num / (t2 - t1)\n",
    "\n",
    "print(\"error num: \", error_num)\n",
    "print(\"FPS: \", fps)"
   ]
  }
 ],
 "metadata": {
  "kernelspec": {
   "display_name": "Python 3 (ipykernel)",
   "language": "python",
   "name": "python3"
  },
  "language_info": {
   "codemirror_mode": {
    "name": "ipython",
    "version": 3
   },
   "file_extension": ".py",
   "mimetype": "text/x-python",
   "name": "python",
   "nbconvert_exporter": "python",
   "pygments_lexer": "ipython3",
   "version": "3.10.4"
  }
 },
 "nbformat": 4,
 "nbformat_minor": 4
}
