{
 "cells": [
  {
   "cell_type": "markdown",
   "metadata": {},
   "source": [
    "# New Style HDMI input and Pixel Formatting\n",
    "\n",
    "This notebook introduces the new features of PYNQ 2.0 for interacting with the video pipeline. The API has been completely\n",
    "redesigned with high performance image processing applications in mind.\n",
    "\n",
    "To start, download the base overlay and instantiate the HDMI input and output."
   ]
  },
  {
   "cell_type": "markdown",
   "metadata": {},
   "source": [
    "BLOCK 1 (Prepare HDMI - should see raw output on monitor after running this)"
   ]
  },
  {
   "cell_type": "code",
   "execution_count": null,
   "metadata": {},
   "outputs": [],
   "source": [
    "from pynq.overlays.base import BaseOverlay\n",
    "from pynq.lib.video import *\n",
    "\n",
    "base = BaseOverlay(\"hls.bit\")\n",
    "hdmi_in = base.video.hdmi_in\n",
    "hdmi_out = base.video.hdmi_out\n",
    "\n",
    "\n",
    "# config hdmi\n",
    "import copy\n",
    "hdmi_in.configure()\n",
    "hdmi_out_mode = copy.copy(hdmi_in.mode)\n",
    "print(hdmi_in.mode)\n",
    "print(hdmi_out_mode)\n",
    "\n",
    "hdmi_out_mode.width = 1920\n",
    "hdmi_out_mode.height = 1080\n",
    "hdmi_out_mode.stride = 1920 * 3\n",
    "hdmi_out_mode.fps = 60\n",
    "hdmi_out.configure(hdmi_out_mode)\n",
    "\n",
    "print(hdmi_out_mode.stride)\n",
    "\n",
    "hdmi_in.start()\n",
    "hdmi_out.start()\n",
    "\n",
    "hdmi_in.tie(hdmi_out)\n",
    "\n",
    "\n",
    "# start dma\n",
    "from pynq import MMIO\n",
    "import numpy as np\n",
    "from pynq import allocate\n",
    "print(hex(base.ip_dict['axi_dma_0']['phys_addr']))\n",
    "# please confirm the address of dma is set  correctly\n",
    "axi_dma = MMIO(hex(base.ip_dict['axi_dma_0']['phys_addr']), 0x60)\n",
    "\n",
    "# Read the status and control logic of dma\n",
    "# print(hex(axi_dma.read(0)))     #MM2S control\n",
    "# print(hex(axi_dma.read(4)))     #MM2S status\n",
    "\n",
    "# print(hex(axi_dma.read(0x30)))  #S2MM control\n",
    "# print(hex(axi_dma.read(0x34)))  #S2MM status"
   ]
  },
  {
   "cell_type": "markdown",
   "metadata": {},
   "source": [
    "BLOCK2 (Close HDMI)"
   ]
  },
  {
   "cell_type": "code",
   "execution_count": 13,
   "metadata": {},
   "outputs": [],
   "source": [
    "hdmi_out.close()\n",
    "hdmi_in.close()"
   ]
  }
 ],
 "metadata": {
  "kernelspec": {
   "display_name": "Python 3 (ipykernel)",
   "language": "python",
   "name": "python3"
  },
  "language_info": {
   "codemirror_mode": {
    "name": "ipython",
    "version": 3
   },
   "file_extension": ".py",
   "mimetype": "text/x-python",
   "name": "python",
   "nbconvert_exporter": "python",
   "pygments_lexer": "ipython3",
   "version": "3.10.4"
  }
 },
 "nbformat": 4,
 "nbformat_minor": 4
}
