{
 "cells": [
  {
   "cell_type": "markdown",
   "metadata": {},
   "source": [
    "# New Style HDMI input and Pixel Formatting\n",
    "\n",
    "This notebook introduces the new features of PYNQ 2.0 for interacting with the video pipeline. The API has been completely\n",
    "redesigned with high performance image processing applications in mind.\n",
    "\n",
    "To start, download the base overlay and instantiate the HDMI input and output."
   ]
  },
  {
   "cell_type": "markdown",
   "metadata": {},
   "source": [
    "BLOCK 1 (Prepare HDMI - should see raw output on monitor after running this)"
   ]
  },
  {
   "cell_type": "code",
   "execution_count": null,
   "metadata": {},
   "outputs": [],
   "source": [
    "from pynq.overlays.base import BaseOverlay\n",
    "from pynq.lib.video import *\n",
    "\n",
    "base = BaseOverlay(\"hls.bit\")\n",
    "hdmi_in = base.video.hdmi_in\n",
    "hdmi_out = base.video.hdmi_out\n",
    "\n",
    "\n",
    "# config hdmi\n",
    "import copy\n",
    "hdmi_in.configure()\n",
    "hdmi_out_mode = copy.copy(hdmi_in.mode)\n",
    "print(hdmi_in.mode)\n",
    "print(hdmi_out_mode)\n",
    "\n",
    "hdmi_out_mode.width = 1920\n",
    "hdmi_out_mode.height = 1080\n",
    "hdmi_out_mode.stride = 1920 * 3\n",
    "hdmi_out_mode.fps = 60\n",
    "hdmi_out.configure(hdmi_out_mode)\n",
    "\n",
    "print(hdmi_out_mode.stride)\n",
    "\n",
    "hdmi_in.start()\n",
    "hdmi_out.start()\n",
    "\n",
    "hdmi_in.tie(hdmi_out)\n",
    "\n",
    "\n",
    "# start dma\n",
    "from pynq import MMIO\n",
    "import numpy as np\n",
    "from pynq import allocate\n",
    "print(hex(base.ip_dict['axi_dma_0']['phys_addr']))\n",
    "\n",
    "# this line of code set the base address of dma control / status registers\n",
    "#     base.ip_dict['axi_dma_0']['phys_addr'] : Query the physical address of the DMA axi_dma_0\n",
    "#     0x60: The size of the DMA axi_dma_0's control / status registers\n",
    "# please confirm the address of dma is set  correctly\n",
    "axi_dma = MMIO(hex(base.ip_dict['axi_dma_0']['phys_addr']), 0x60)\n",
    "\n",
    "\n",
    "\n",
    "\n",
    "# Read the status and control logic of dma\n",
    "# print(hex(axi_dma.read(0)))     #MM2S control\n",
    "# print(hex(axi_dma.read(4)))     #MM2S status\n",
    "\n",
    "# print(hex(axi_dma.read(0x30)))  #S2MM control\n",
    "# print(hex(axi_dma.read(0x34)))  #S2MM status"
   ]
  },
  {
   "cell_type": "markdown",
   "metadata": {},
   "source": [
    "BLOCK2 (Start streaming)"
   ]
  },
  {
   "cell_type": "code",
   "execution_count": 5,
   "metadata": {},
   "outputs": [],
   "source": [
    "_4k_byte = 3840 * 2160 * 3\n",
    "_1k_byte = 1920 * 1080 * 3\n",
    "\n",
    "# get the start address of the input 4K frame\n",
    "f = hdmi_in.readframe()\n",
    "\n",
    "# allocate and get the start address for the output 1080p frame\n",
    "output_buffer = allocate(shape=(1080, 1920, 3),dtype=np.uint8)\n",
    "\n",
    "\n",
    "# Read a 4K frame from DDR to PL, set signal from low offset to high offset to prevent masking\n",
    "axi_dma.write(0, 1) # set Read channel to be active\n",
    "axi_dma.write(0x1c, 0) # set Read channel to be active\n",
    "axi_dma.write(0x18, f.device_address) # set the start address of the input frame\n",
    "axi_dma.write(0x28, _4k_byte) # set the length of the input frame\n",
    "\n",
    "# Write a 1080p frame from PL to DDR, set signal from low offset to high offset to prevent masking\n",
    "axi_dma.write(0x30, 1) # set Write channel to be active\n",
    "axi_dma.write(0x4c, 0) # set Write channel to be active\n",
    "axi_dma.write(0x48, output_buffer.device_address) # set the start address of the output frame\n",
    "axi_dma.write(0x58, _1k_byte) # set the length of the output frame\n",
    "\n",
    "\n",
    "# # wait for Read channel to finish (check the registers with 0x04 shift)\n",
    "# # Since their will be leftover data in the PL pipeline, it will finish earlier than the Write channel\n",
    "# while hex(axi_dma.read(4)) != \"0x1002\":\n",
    "#               pass\n",
    "\n",
    "\n",
    "import time\n",
    "num_frames = 1200\n",
    "start = time.time()\n",
    "for _ in range(num_frames):\n",
    "\n",
    "    # get the start address of the next input 4K frame\n",
    "    f = hdmi_in.readframe()\n",
    "\n",
    "    # wait for Read channel to finish (check the registers with 0x04 shift)\n",
    "    # Since their will be leftover data in the PL pipeline, it will finish earlier than the Write channel\n",
    "    while hex(axi_dma.read(4)) != \"0x1002\":\n",
    "              pass\n",
    "    \n",
    "    # Since current Read channel has finished, we can start the next Reading for the next frame, it can help flush the PL pipeline\n",
    "    # and make sure the current write channel will finish. (Receive the leftover data in the pipeline)\n",
    "    axi_dma.write(0, 1)\n",
    "    axi_dma.write(0x1c, 0)\n",
    "    axi_dma.write(0x18, f.device_address)\n",
    "    axi_dma.write(0x28, _4k_byte)\n",
    "\n",
    "\n",
    "    # wait for Write channel to finish (check the registers with 0x34 shift)\n",
    "    while hex(axi_dma.read(0x34)) != \"0x1002\":\n",
    "              pass\n",
    "        \n",
    "    \n",
    "    # Since current Write channel has finished, the output frame is ready, we can send it to the HDMI output\n",
    "    # this line is triggering the VDMA to send the frame to HDMI output, HDMI output will accept at 60 fps, and will\n",
    "    # stall VDMA if VDMA produce higher data rate.\n",
    "    # This line is of blocking and will wait for the HDMI output to finish and it can control the frame rate (60 fps)\n",
    "    hdmi_out.writeframe(output_buffer)\n",
    "    \n",
    "\n",
    "    # Since current output frame has been sent to HDMI output, it is not valid anymore, we can start writing the next frame\n",
    "    # to its address. \n",
    "    axi_dma.write(0x30, 1)\n",
    "    axi_dma.write(0x4c, 0)\n",
    "    axi_dma.write(0x48, output_buffer.device_address)\n",
    "    axi_dma.write(0x58, _1k_byte)\n",
    "\n",
    "\n",
    "    \n",
    "    \n",
    "end = time.time()\n",
    "print(\"Frames per second:  \" + str(num_frames / (end - start)))"
   ]
  },
  {
   "cell_type": "markdown",
   "metadata": {},
   "source": [
    "BLOCK3 (Save board output)"
   ]
  },
  {
   "cell_type": "code",
   "execution_count": null,
   "metadata": {},
   "outputs": [],
   "source": [
    "import PIL.Image\n",
    "import numpy as np\n",
    "img = PIL.Image.fromarray(output_buffer)\n",
    "img.save(\"board.png\")\n",
    "np.save(\"board.npy\", output_buffer)\n",
    "img"
   ]
  },
  {
   "cell_type": "markdown",
   "metadata": {},
   "source": [
    "BLOCK4 (Close HDMI)"
   ]
  },
  {
   "cell_type": "code",
   "execution_count": 13,
   "metadata": {},
   "outputs": [],
   "source": [
    "hdmi_out.close()\n",
    "hdmi_in.close()"
   ]
  },
  {
   "cell_type": "code",
   "execution_count": null,
   "metadata": {},
   "outputs": [],
   "source": []
  }
 ],
 "metadata": {
  "kernelspec": {
   "display_name": "Python 3 (ipykernel)",
   "language": "python",
   "name": "python3"
  },
  "language_info": {
   "codemirror_mode": {
    "name": "ipython",
    "version": 3
   },
   "file_extension": ".py",
   "mimetype": "text/x-python",
   "name": "python",
   "nbconvert_exporter": "python",
   "pygments_lexer": "ipython3",
   "version": "3.10.4"
  }
 },
 "nbformat": 4,
 "nbformat_minor": 4
}
