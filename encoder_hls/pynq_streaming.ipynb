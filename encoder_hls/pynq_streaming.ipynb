{
 "cells": [
  {
   "cell_type": "code",
   "execution_count": 1,
   "id": "95b0fd56",
   "metadata": {},
   "outputs": [
    {
     "data": {
      "application/javascript": [
       "\n",
       "try {\n",
       "require(['notebook/js/codecell'], function(codecell) {\n",
       "  codecell.CodeCell.options_default.highlight_modes[\n",
       "      'magic_text/x-csrc'] = {'reg':[/^%%microblaze/]};\n",
       "  Jupyter.notebook.events.one('kernel_ready.Kernel', function(){\n",
       "      Jupyter.notebook.get_cells().map(function(cell){\n",
       "          if (cell.cell_type == 'code'){ cell.auto_highlight(); } }) ;\n",
       "  });\n",
       "});\n",
       "} catch (e) {};\n"
      ]
     },
     "metadata": {},
     "output_type": "display_data"
    },
    {
     "data": {
      "application/javascript": [
       "\n",
       "try {\n",
       "require(['notebook/js/codecell'], function(codecell) {\n",
       "  codecell.CodeCell.options_default.highlight_modes[\n",
       "      'magic_text/x-csrc'] = {'reg':[/^%%pybind11/]};\n",
       "  Jupyter.notebook.events.one('kernel_ready.Kernel', function(){\n",
       "      Jupyter.notebook.get_cells().map(function(cell){\n",
       "          if (cell.cell_type == 'code'){ cell.auto_highlight(); } }) ;\n",
       "  });\n",
       "});\n",
       "} catch (e) {};\n"
      ]
     },
     "metadata": {},
     "output_type": "display_data"
    }
   ],
   "source": [
    "from pynq import Overlay\n",
    "from pynq import PL\n",
    "\n",
    "base = Overlay('/home/xilinx/jupyter_notebooks/weikai/dma_100M.bit', download=True)\n",
    "ofl = open(\"asdf.txt\",'w')"
   ]
  },
  {
   "cell_type": "code",
   "execution_count": 2,
   "id": "728a9770",
   "metadata": {
    "scrolled": false
   },
   "outputs": [
    {
     "data": {
      "text/plain": [
       "2"
      ]
     },
     "execution_count": 2,
     "metadata": {},
     "output_type": "execute_result"
    }
   ],
   "source": [
    "ofl.write(f\"{base.ip_dict}\")\n",
    "ofl.write(\"\\n\\n\\n\\n\")\n",
    "ofl.write(f\"{base.hierarchy_dict}\")"
   ]
  },
  {
   "cell_type": "code",
   "execution_count": 3,
   "id": "7d1eb43f",
   "metadata": {},
   "outputs": [
    {
     "name": "stdout",
     "output_type": "stream",
     "text": [
      "0x60300000\n",
      "0x61b00000\n"
     ]
    }
   ],
   "source": [
    "import numpy as np\n",
    "from pynq import allocate\n",
    "\n",
    "fourK_byte = 3840 * 2160 * 3\n",
    "\n",
    "input_buffer = allocate(shape=(fourK_byte,),dtype=np.uint8)\n",
    "output_buffer = allocate(shape=(fourK_byte,),dtype=np.uint8)\n",
    "print(hex(input_buffer.device_address))\n",
    "print(hex(output_buffer.device_address))"
   ]
  },
  {
   "cell_type": "code",
   "execution_count": 4,
   "id": "01ba3bde",
   "metadata": {},
   "outputs": [],
   "source": [
    "# initialize IO buffer\n",
    "for i in range(fourK_byte):\n",
    "    input_buffer[i] = 255\n",
    "for i in range(fourK_byte):\n",
    "    output_buffer[i] = 0"
   ]
  },
  {
   "cell_type": "code",
   "execution_count": 5,
   "id": "ea9da9b9",
   "metadata": {},
   "outputs": [
    {
     "name": "stdout",
     "output_type": "stream",
     "text": [
      "0xa0000000\n"
     ]
    }
   ],
   "source": [
    "# start on dma passthrough \n",
    "from pynq import MMIO\n",
    "# get the dma address and map it using MMIO\n",
    "print(hex(base.ip_dict['axi_dma_0']['phys_addr']))\n",
    "dma = MMIO(0xa0000000, 0x60)\n",
    "# print(input_buffer.device_address)\n",
    "# print(hex(input_buffer.device_address))\n",
    "# print(hex(output_buffer.device_address))"
   ]
  },
  {
   "cell_type": "code",
   "execution_count": 6,
   "id": "32a05e6a",
   "metadata": {},
   "outputs": [
    {
     "name": "stdout",
     "output_type": "stream",
     "text": [
      "0x10002\n",
      "0x1\n",
      "0x10002\n",
      "0x1\n"
     ]
    }
   ],
   "source": [
    "# Read the control logic of dma\n",
    "\n",
    "print(hex(dma.read(0)))     #MM2S control\n",
    "print(hex(dma.read(4)))     #MM2S status\n",
    "\n",
    "print(hex(dma.read(0x30)))  #S2MM control\n",
    "print(hex(dma.read(0x34)))  #S2MM status"
   ]
  },
  {
   "cell_type": "code",
   "execution_count": 7,
   "id": "005d2298",
   "metadata": {},
   "outputs": [
    {
     "name": "stdout",
     "output_type": "stream",
     "text": [
      "255\n",
      "255\n",
      "255\n",
      "255\n",
      "255\n",
      "255\n",
      "255\n",
      "255\n",
      "255\n",
      "255\n",
      "255\n",
      "255\n",
      "255\n",
      "255\n",
      "255\n",
      "255\n",
      "255\n",
      "255\n",
      "255\n",
      "255\n",
      "255\n",
      "255\n",
      "255\n",
      "255\n",
      "255\n",
      "255\n",
      "255\n",
      "255\n",
      "255\n",
      "255\n",
      "255\n",
      "255\n"
     ]
    }
   ],
   "source": [
    "# check the input buffer before transfer\n",
    "for i in range(32):\n",
    "    print(input_buffer[i])"
   ]
  },
  {
   "cell_type": "code",
   "execution_count": 8,
   "id": "e60a72ea",
   "metadata": {},
   "outputs": [],
   "source": [
    "# Read from Input Buffer using MM2S\n",
    "# MM2S control setting\n",
    "\n",
    "# set run/stop bit to 1\n",
    "dma.write(0, 1)\n",
    "# set upper address\n",
    "dma.write(0x1c, 0)\n",
    "# set lower address\n",
    "dma.write(0x18, input_buffer.device_address)\n",
    "# set lenth in bytes (8*4)\n",
    "dma.write(0x28, fourK_byte)"
   ]
  },
  {
   "cell_type": "code",
   "execution_count": 9,
   "id": "ca4e879b",
   "metadata": {
    "scrolled": true
   },
   "outputs": [
    {
     "name": "stdout",
     "output_type": "stream",
     "text": [
      "0\n",
      "0\n",
      "0\n",
      "0\n",
      "0\n",
      "0\n",
      "0\n",
      "0\n",
      "0\n",
      "0\n",
      "0\n",
      "0\n",
      "0\n",
      "0\n",
      "0\n",
      "0\n",
      "0\n",
      "0\n",
      "0\n",
      "0\n",
      "0\n",
      "0\n",
      "0\n",
      "0\n",
      "0\n",
      "0\n",
      "0\n",
      "0\n",
      "0\n",
      "0\n",
      "0\n",
      "0\n"
     ]
    }
   ],
   "source": [
    "# check the output buffer before transfer\n",
    "for i in range(32):\n",
    "    print(output_buffer[i])"
   ]
  },
  {
   "cell_type": "code",
   "execution_count": 10,
   "id": "f4586c5f",
   "metadata": {},
   "outputs": [],
   "source": [
    "# Write to Output Buffer using S2MM\n",
    "# S2MM control setting\n",
    "\n",
    "# set run/stop bit to 1\n",
    "dma.write(0x30, 1)\n",
    "# set upper address\n",
    "dma.write(0x4c, 0)\n",
    "# set lower address\n",
    "dma.write(0x48, output_buffer.device_address)\n",
    "# set lenth in bytes (4*4)\n",
    "dma.write(0x58, fourK_byte)"
   ]
  },
  {
   "cell_type": "code",
   "execution_count": 11,
   "id": "499c1f8e",
   "metadata": {},
   "outputs": [
    {
     "name": "stdout",
     "output_type": "stream",
     "text": [
      "0x10003\n",
      "0x1002\n",
      "0x10003\n",
      "0x1002\n"
     ]
    }
   ],
   "source": [
    "# Read the control logic of dma\n",
    "\n",
    "print(hex(dma.read(0)))     #MM2S control\n",
    "print(hex(dma.read(4)))     #MM2S status\n",
    "\n",
    "print(hex(dma.read(0x30)))  #S2MM control\n",
    "print(hex(dma.read(0x34)))  #S2MM status"
   ]
  },
  {
   "cell_type": "code",
   "execution_count": 12,
   "id": "fb2a6e7f",
   "metadata": {},
   "outputs": [
    {
     "name": "stdout",
     "output_type": "stream",
     "text": [
      "255\n",
      "255\n",
      "255\n",
      "255\n",
      "255\n",
      "255\n",
      "255\n",
      "255\n",
      "255\n",
      "255\n",
      "255\n",
      "255\n",
      "255\n",
      "255\n",
      "255\n",
      "255\n",
      "255\n",
      "255\n",
      "255\n",
      "255\n",
      "255\n",
      "255\n",
      "255\n",
      "255\n",
      "255\n",
      "255\n",
      "255\n",
      "255\n",
      "255\n",
      "255\n",
      "255\n",
      "255\n"
     ]
    }
   ],
   "source": [
    "# check the output buffer after transfer\n",
    "for i in range(32):\n",
    "    print(output_buffer[i])"
   ]
  },
  {
   "cell_type": "code",
   "execution_count": 13,
   "id": "8968ac10",
   "metadata": {},
   "outputs": [
    {
     "name": "stdout",
     "output_type": "stream",
     "text": [
      "0x10003\n",
      "0x1002\n",
      "0x10003\n",
      "0x1002\n",
      "63.94393587409476\n"
     ]
    }
   ],
   "source": [
    "import time\n",
    "\n",
    "\n",
    "t1 = time.time()\n",
    "\n",
    "for i in range(100):\n",
    "    # set run/stop bit to 1\n",
    "    dma.write(0, 1)\n",
    "    # set upper address\n",
    "    dma.write(0x1c, 0)\n",
    "    # set lower address\n",
    "    dma.write(0x18, input_buffer.device_address)\n",
    "    # set lenth in bytes (8*4)\n",
    "    dma.write(0x28, fourK_byte)\n",
    "\n",
    "    # set run/stop bit to 1\n",
    "    dma.write(0x30, 1)\n",
    "    # set upper address\n",
    "    dma.write(0x4c, 0)\n",
    "    # set lower address\n",
    "    dma.write(0x48, output_buffer.device_address)\n",
    "    # set lenth in bytes (4*4)\n",
    "    dma.write(0x58, fourK_byte)\n",
    "\n",
    "    while hex(dma.read(0x34)) != \"0x1002\":\n",
    "              pass\n",
    "    \n",
    "\n",
    "t2 = time.time()\n",
    "          \n",
    "print(hex(dma.read(0)))     #MM2S control\n",
    "print(hex(dma.read(4)))     #MM2S status\n",
    "\n",
    "print(hex(dma.read(0x30)))  #S2MM control\n",
    "print(hex(dma.read(0x34)))  #S2MM status\n",
    "\n",
    "print(100 / (t2-t1))\n"
   ]
  },
  {
   "cell_type": "code",
   "execution_count": 20,
   "id": "b613c239",
   "metadata": {},
   "outputs": [
    {
     "ename": "SyntaxError",
     "evalue": "incomplete input (147812726.py, line 1)",
     "output_type": "error",
     "traceback": [
      "\u001b[0;36m  Input \u001b[0;32mIn [20]\u001b[0;36m\u001b[0m\n\u001b[0;31m    hex(dma.read(0x34)\u001b[0m\n\u001b[0m                      ^\u001b[0m\n\u001b[0;31mSyntaxError\u001b[0m\u001b[0;31m:\u001b[0m incomplete input\n"
     ]
    }
   ],
   "source": [
    "\n"
   ]
  },
  {
   "cell_type": "code",
   "execution_count": 13,
   "id": "8f83e775",
   "metadata": {},
   "outputs": [],
   "source": [
    "del input_buffer\n",
    "del output_buffer"
   ]
  },
  {
   "cell_type": "code",
   "execution_count": null,
   "id": "0e880e2a",
   "metadata": {},
   "outputs": [],
   "source": []
  }
 ],
 "metadata": {
  "kernelspec": {
   "display_name": "Python 3 (ipykernel)",
   "language": "python",
   "name": "python3"
  },
  "language_info": {
   "codemirror_mode": {
    "name": "ipython",
    "version": 3
   },
   "file_extension": ".py",
   "mimetype": "text/x-python",
   "name": "python",
   "nbconvert_exporter": "python",
   "pygments_lexer": "ipython3",
   "version": "3.10.4"
  }
 },
 "nbformat": 4,
 "nbformat_minor": 5
}
